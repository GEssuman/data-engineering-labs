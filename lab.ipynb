{
 "cells": [
  {
   "cell_type": "markdown",
   "id": "57cf61fc",
   "metadata": {},
   "source": [
    "# TMDB Movie Data Analysis Using Pyspark"
   ]
  },
  {
   "cell_type": "code",
   "execution_count": null,
   "id": "b8645053-8e64-4a20-b7d8-abc96db46279",
   "metadata": {},
   "outputs": [],
   "source": [
    "# from utils import *\n",
    "from pyspark.sql.types import StructField, StructType, BooleanType, StringType, IntegerType, DoubleType, ArrayType, LongType, FloatType\n",
    "import os\n",
    "from utils import *"
   ]
  },
  {
   "cell_type": "code",
   "execution_count": 2,
   "id": "a18c90ac-bbed-4557-8951-5aaa5ff39d61",
   "metadata": {},
   "outputs": [],
   "source": [
    "#declare constant variables\n",
    "BASE_URL = \"https://api.themoviedb.org/3/movie/\"\n",
    "API_ACCESS_TOKEN = os.getenv('API_ACCESS_TOKEN')\n",
    "HEADERS = {\n",
    "    \"accept\": \"application/json\",\n",
    "    \"Authorization\": f\"Bearer {API_ACCESS_TOKEN}\"\n",
    "}\n",
    "movie_ids = [0, 299534, 19995, 140607, 299536, 597, 135397, 420818, 24428, 168259, 99861, 284054, 12445,181808, 330457, 351286, 109445, 321612, 260513]"
   ]
  },
  {
   "cell_type": "code",
   "execution_count": 3,
   "id": "acf687d0",
   "metadata": {},
   "outputs": [],
   "source": [
    "spark = create_spark_session(\"imdb_movie_data_analysis\")"
   ]
  },
  {
   "cell_type": "code",
   "execution_count": null,
   "id": "faf8cad6",
   "metadata": {},
   "outputs": [],
   "source": [
    "\n",
    "movie_schema = StructType([\n",
    "    StructField(\"adult\", BooleanType(), True),\n",
    "    StructField(\"backdrop_path\", StringType(), True),\n",
    "    StructField(\"belongs_to_collection\", StructType([\n",
    "        StructField(\"backdrop_path\", StringType(), True),\n",
    "        StructField(\"name\", StringType(), True),\n",
    "        StructField(\"id\", IntegerType(), True),\n",
    "        StructField(\"poster_path\", StringType(), True)\n",
    "    ]), True), \n",
    "    StructField(\"budget\", LongType(), True),\n",
    "    StructField(\"genres\", ArrayType(StructType([\n",
    "        StructField(\"id\", IntegerType(), True),\n",
    "        StructField(\"name\", StringType(), True)\n",
    "    ])), True),\n",
    "    StructField(\"homepage\", StringType(), True),\n",
    "    StructField(\"id\", IntegerType(), True),\n",
    "    StructField(\"imdb_id\", StringType(), True),\n",
    "    StructField(\"origin_country\", ArrayType(StringType()), True),\n",
    "    StructField(\"original_language\", StringType(), True),\n",
    "    StructField(\"original_title\", StringType(), True),\n",
    "    StructField(\"overview\", StringType(), True),\n",
    "    StructField(\"popularity\", FloatType(), True),\n",
    "    StructField(\"poster_path\", StringType(), True),\n",
    "    StructField(\"production_companies\", ArrayType(StructType([\n",
    "        StructField(\"id\", IntegerType(), True),\n",
    "        StructField(\"logo_path\", StringType(), True),\n",
    "        StructField(\"name\", StringType(), True),\n",
    "        StructField(\"origin_country\", StringType(), True)\n",
    "    ])), True),\n",
    "    StructField(\"production_countries\", ArrayType(StructType([\n",
    "        StructField(\"iso_3166_1\", StringType(), True),\n",
    "        StructField(\"name\", StringType(), True)\n",
    "    ])), True),\n",
    "    StructField(\"release_date\", StringType(), True),\n",
    "    StructField(\"revenue\", LongType(), True),\n",
    "    StructField(\"runtime\", IntegerType(), True),\n",
    "    StructField(\"spoken_languages\", ArrayType(StructType([\n",
    "        StructField(\"english_name\", StringType(), True),\n",
    "        StructField(\"iso_639_1\", StringType(), True),\n",
    "        StructField(\"name\", StringType(), True)\n",
    "    ])), True),\n",
    "    StructField(\"status\", StringType(), True),\n",
    "    StructField(\"tagline\", StringType(), True),\n",
    "    StructField(\"title\", StringType(), True),\n",
    "    StructField(\"video\", BooleanType(), True),\n",
    "    StructField(\"vote_average\", FloatType(), True),\n",
    "    StructField(\"vote_count\", IntegerType(), True)\n",
    "])\n",
    "\n",
    "\n",
    "\n",
    "credit_schema = StructType([\n",
    "    StructField(\"id\", IntegerType(), True),\n",
    "    StructField(\"cast\", ArrayType(\n",
    "        StructType([\n",
    "            StructField(\"adult\", BooleanType(), True),\n",
    "            StructField(\"gender\", IntegerType(), True),\n",
    "            StructField(\"id\", IntegerType(), True),\n",
    "            StructField(\"known_for_department\", StringType(), True),\n",
    "            StructField(\"name\", StringType(), True),\n",
    "            StructField(\"original_name\", StringType(), True),\n",
    "            StructField(\"popularity\", DoubleType(), True),\n",
    "            StructField(\"profile_path\", StringType(), True),\n",
    "            StructField(\"cast_id\", IntegerType(), True),\n",
    "            StructField(\"character\", StringType(), True),\n",
    "            StructField(\"credit_id\", StringType(), True),\n",
    "            StructField(\"order\", IntegerType(), True)\n",
    "        ])\n",
    "    ), True),\n",
    "    StructField(\"crew\", ArrayType(\n",
    "        StructType([\n",
    "            StructField(\"adult\", BooleanType(), True),\n",
    "            StructField(\"gender\", IntegerType(), True),\n",
    "            StructField(\"id\", IntegerType(), True),\n",
    "            StructField(\"known_for_department\", StringType(), True),\n",
    "            StructField(\"name\", StringType(), True),\n",
    "            StructField(\"original_name\", StringType(), True),\n",
    "            StructField(\"popularity\", DoubleType(), True),\n",
    "            StructField(\"profile_path\", StringType(), True),\n",
    "            StructField(\"credit_id\", StringType(), True),\n",
    "            StructField(\"department\", StringType(), True),\n",
    "            StructField(\"job\", StringType(), True)\n",
    "        ])\n",
    "    ), True)\n",
    "])"
   ]
  },
  {
   "cell_type": "code",
   "execution_count": 5,
   "id": "34c4362f-cc2d-491d-a404-ea620f1a9b87",
   "metadata": {},
   "outputs": [],
   "source": [
    "internet_connection = False\n",
    "movies_df = spark.createDataFrame([], schema=movie_schema)\n",
    "credits_df = spark.createDataFrame([], credit_schema)"
   ]
  },
  {
   "cell_type": "markdown",
   "id": "1fab509c",
   "metadata": {},
   "source": [
    "### Fetching movie data from TMDB Movie Databse API"
   ]
  },
  {
   "cell_type": "code",
   "execution_count": 6,
   "id": "26f38249",
   "metadata": {},
   "outputs": [],
   "source": [
    "if (internet_connection != False):\n",
    "    movies_df,credits_df = get_all_data(spark, BASE_URL, movie_ids, HEADERS, movie_schema=movie_schema, credit_schema=credit_schema)\n",
    "    movies_df.write.mode(\"overwrite\").json('./data/movies_raw_data.json')\n",
    "    credits_df.write.mode(\"overwrite\").json('./data/credits_raw_data.json')\n",
    "else:\n",
    "    movies_df = spark.read.json('./data/movies_raw_data.json', schema=movie_schema)  \n",
    "    credits_df = spark.read.json('./data/credits_raw_data.json', schema=credit_schema)"
   ]
  },
  {
   "cell_type": "code",
   "execution_count": 7,
   "id": "c2a78d34",
   "metadata": {},
   "outputs": [
    {
     "name": "stdout",
     "output_type": "stream",
     "text": [
      "+-----+--------------------+---------------------+---------+--------------------+--------------------+------+---------+--------------+-----------------+--------------------+--------------------+----------+--------------------+--------------------+--------------------+------------+----------+-------+--------------------+--------+--------------------+--------------------+-----+------------+----------+\n",
      "|adult|       backdrop_path|belongs_to_collection|   budget|              genres|            homepage|    id|  imdb_id|origin_country|original_language|      original_title|            overview|popularity|         poster_path|production_companies|production_countries|release_date|   revenue|runtime|    spoken_languages|  status|             tagline|               title|video|vote_average|vote_count|\n",
      "+-----+--------------------+---------------------+---------+--------------------+--------------------+------+---------+--------------+-----------------+--------------------+--------------------+----------+--------------------+--------------------+--------------------+------------+----------+-------+--------------------+--------+--------------------+--------------------+-----+------------+----------+\n",
      "|false|/5Iw7zQTHVRBOYpA0...| {/zZDkgOmFMVYpGAk...|200000000|[{12, Adventure},...|https://www.starw...|181808|tt2527336|          [US]|               en|Star Wars: The La...|Rey develops her ...|   56.9353|/kOVEVeg59E0wsnXm...|[{1, /tlVSws0Rvvt...|[{US, United Stat...|  2017-12-13|1332698830|    152|[{English, en, En...|Released|Darkness rises......|Star Wars: The La...|false|       6.779|     15553|\n",
      "|false|/AoSZyb37ljMAxw0R...| {/s3vdRkK7KZFUDC8...|150000000|[{10751, Family},...|https://movies.di...|330457|tt4520988|          [US]|               en|           Frozen II|Elsa, Anna, Krist...|    14.216|/mINJaa34MtknCYl5...|[{2, /wdrCwmRnLFJ...|[{US, United Stat...|  2019-11-20|1453683476|    103|[{English, en, En...|Released|The past is not w...|           Frozen II|false|        7.25|      9881|\n",
      "|false|/6WA9stUMbIkEPxn3...| {/njFixYzIxX8jsn6...|170000000|[{28, Action}, {1...|https://www.uphe....|351286|tt4881806|          [US]|               en|Jurassic World: F...|Three years after...|   56.3223|/270MrJNqJovumHXG...|[{56, /cEaxANEisC...|[{US, United Stat...|  2018-06-06|1310466296|    129|[{English, en, En...|Released|   The park is gone.|Jurassic World: F...|false|       6.537|     12021|\n",
      "|false|/u2bZhH3nTf0So0UI...| {/s3vdRkK7KZFUDC8...|150000000|[{16, Animation},...|http://movies.dis...|109445|tt2294629|          [US]|               en|              Frozen|Young princess An...|   20.8018|/m4uhSpErBKprhscl...|[{2, /wdrCwmRnLFJ...|[{US, United Stat...|  2013-11-20|1274219009|    102|[{English, en, En...|Released|Only the act of t...|              Frozen|false|       7.247|     16813|\n",
      "|false|/uU1Mt4JWhDvl4vKb...|                 NULL|160000000|[{10751, Family},...|http://movies.dis...|321612|tt2771200|          [US]|               en|Beauty and the Beast|A live-action ada...|   63.0014|/hKegSKIDep2ewJWP...|[{2, /wdrCwmRnLFJ...|[{US, United Stat...|  2017-03-16|1266115964|    129|[{English, en, En...|Released|       Be our guest.|Beauty and the Beast|false|       6.971|     15594|\n",
      "|false|/mabuNsGJgRuCTuGq...| {/6oi6V1O9MJRNnfV...|200000000|[{28, Action}, {1...|https://movies.di...|260513|tt3606756|          [US]|               en|       Incredibles 2|Elastigirl spring...|    9.9388|/9lFKBtaVIhP7E2Pk...|[{2, /wdrCwmRnLFJ...|[{US, United Stat...|  2018-06-14|1242805359|    118|[{English, en, En...|Released|It's been too lon...|       Incredibles 2|false|       7.454|     13036|\n",
      "|false|/cHkhb5A4gQRK6zs6...| {/z5A5W3WYJc3UVEW...|190000000|[{28, Action}, {5...|https://www.uphe....|168259|tt2820852|          [US]|               en|           Furious 7|Deckard Shaw seek...|   15.4975|/wurKlC3VKUgcfsn0...|[{333, /5xUJfzPZ8...|[{US, United Stat...|  2015-04-01|1515400000|    137|[{Arabic, ar, الع...|Released|Vengeance hits home.|           Furious 7|false|       7.226|     10776|\n",
      "|false|/6YwkGolwdOMNpbTO...| {/zuW6fOiusv4X9nn...|365000000|[{28, Action}, {1...|https://www.marve...| 99861|tt2395427|          [US]|               en|Avengers: Age of ...|When Tony Stark t...|   21.7993|/4ssDuvEDkSArWEdy...|[{420, /hUzeosd33...|[{US, United Stat...|  2015-04-22|1405403694|    141|[{English, en, En...|Released| A new age has come.|Avengers: Age of ...|false|       7.271|     23371|\n",
      "|false|/b6ZJZHUdMEFECvGi...| {/nsiBzWsmmerBMuD...|200000000|[{28, Action}, {1...|https://www.marve...|284054|tt1825683|          [US]|               en|       Black Panther|King T'Challa ret...|   62.4477|/uxzzxijgPIY7slzF...|[{420, /hUzeosd33...|[{US, United Stat...|  2018-02-13|1349926083|    135|[{English, en, En...|Released| Long live the king.|       Black Panther|false|       7.373|     22511|\n",
      "|false|/n5A7brJCjejceZmH...| {/kmEsQL2vOTA0jnM...|125000000|[{14, Fantasy}, {...|https://www.warne...| 12445|tt1201607|          [GB]|               en|Harry Potter and ...|Harry, Ron and He...|    21.274|/c54HpQmuwXjHq2C9...|[{174, /zhD3hhtKB...|[{GB, United King...|  2011-07-12|1341511219|    130|[{English, en, En...|Released|        It all ends.|Harry Potter and ...|false|       8.087|     20973|\n",
      "|false|/sCzcYW9h55WcesOq...|                 NULL|200000000|[{18, Drama}, {10...|https://www.param...|   597|tt0120338|          [US]|               en|             Titanic|101-year-old Rose...|   46.9587|/9xjZS2rlVxm8SFx8...|[{4, /gz66EfNoYPq...|[{US, United Stat...|  1997-11-18|2264162353|    194|[{English, en, En...|Released|Nothing on Earth ...|             Titanic|false|       7.906|     25916|\n",
      "|false|/aIGIYJTyOkEVUmEd...| {/njFixYzIxX8jsn6...|150000000|[{28, Action}, {1...|https://www.juras...|135397|tt0369610|          [US]|               en|      Jurassic World|Twenty-two years ...|    18.472|/rhr4y79GpxQF9Isf...|[{56, /cEaxANEisC...|[{US, United Stat...|  2015-06-06|1671537444|    124|[{English, en, En...|Released|   The park is open.|      Jurassic World|false|       6.693|     20650|\n",
      "|false|/1TUg5pO1VZ4B0Q1a...| {/1KeXF239BkqLChc...|260000000|[{12, Adventure},...|https://movies.di...|420818|tt6105098|          [US]|               en|       The Lion King|Simba idolizes hi...|   62.0032|/dzBtMocZuJbjLOXv...|[{2, /wdrCwmRnLFJ...|[{US, United Stat...|  2019-07-12|1662020819|    118|[{English, en, En...|Released|The king has retu...|       The Lion King|false|        7.11|     10320|\n",
      "|false|/9BBTo63ANSmhC4e6...| {/zuW6fOiusv4X9nn...|220000000|[{878, Science Fi...|https://www.marve...| 24428|tt0848228|          [US]|               en|        The Avengers|When an unexpecte...|   41.1871|/RYMX2wcKCBAr24Uy...|[{420, /hUzeosd33...|[{US, United Stat...|  2012-04-25|1518815515|    143|[{English, en, En...|Released|Some assembly req...|        The Avengers|false|        7.74|     31621|\n",
      "|false|/7RyHsO4yDXtBv1zU...| {/zuW6fOiusv4X9nn...|356000000|[{12, Adventure},...|https://www.marve...|299534|tt4154796|          [US]|               en|   Avengers: Endgame|After the devasta...|   53.8808|/ulzhLuWrPK07P1Yk...|[{420, /hUzeosd33...|[{US, United Stat...|  2019-04-24|2799439100|    181|[{English, en, En...|Released|  Avenge the fallen.|   Avengers: Endgame|false|       8.237|     26248|\n",
      "|false|/vL5LR6WdxWPjLPFR...| {/gxnvX9kF7RRUQYv...|237000000|[{28, Action}, {1...|https://www.avata...| 19995|tt0499549|          [US]|               en|              Avatar|In the 22nd centu...|   29.1285|/kyeqWdyUXW608qlY...|[{444, NULL, Dune...|[{US, United Stat...|  2009-12-15|2923706026|    162|[{English, en, En...|Released|Enter the world o...|              Avatar|false|       7.588|     32162|\n",
      "|false|/k6EOrckWFuz7I4z4...| {/zZDkgOmFMVYpGAk...|245000000|[{12, Adventure},...|http://www.starwa...|140607|tt2488496|          [US]|               en|Star Wars: The Fo...|Thirty years afte...|   15.2615|/wqnLdwVXoBjKibFR...|[{1, /tlVSws0Rvvt...|[{US, United Stat...|  2015-12-15|2068223624|    136|[{English, en, En...|Released|Every generation ...|Star Wars: The Fo...|false|       7.262|     19693|\n",
      "|false|/mDfJG3LC3Dqb67AZ...| {/zuW6fOiusv4X9nn...|300000000|[{12, Adventure},...|https://www.marve...|299536|tt4154756|          [US]|               en|Avengers: Infinit...|As the Avengers a...|   97.1289|/7WsyChQLEftFiDOV...|[{420, /hUzeosd33...|[{US, United Stat...|  2018-04-25|2052415039|    149|[{English, en, En...|Released|Destiny arrives a...|Avengers: Infinit...|false|         8.2|     30433|\n",
      "+-----+--------------------+---------------------+---------+--------------------+--------------------+------+---------+--------------+-----------------+--------------------+--------------------+----------+--------------------+--------------------+--------------------+------------+----------+-------+--------------------+--------+--------------------+--------------------+-----+------------+----------+\n",
      "\n"
     ]
    }
   ],
   "source": [
    "movies_df.show()"
   ]
  },
  {
   "cell_type": "markdown",
   "id": "5a746513",
   "metadata": {},
   "source": [
    "# Data Cleaning and Preprocessing"
   ]
  },
  {
   "cell_type": "code",
   "execution_count": 8,
   "id": "8ec7cb7d",
   "metadata": {},
   "outputs": [],
   "source": [
    "#Dropping irrelevant columns\n",
    "# movies_df\n",
    "columns_to_drop = ['adult', 'original_title', 'imdb_id', 'video', 'homepage']\n",
    "movies_df = drop_cols(movies_df, columns_to_drop)"
   ]
  },
  {
   "cell_type": "markdown",
   "id": "53131bb4",
   "metadata": {},
   "source": [
    "### Evaluating json-like columns, extracting and cleaning key data points"
   ]
  },
  {
   "cell_type": "code",
   "execution_count": 9,
   "id": "7342f7fe",
   "metadata": {},
   "outputs": [],
   "source": [
    "#evaluating json-like columns in movie_df and credits_df\n",
    "movies_df = eval_movies_json_col(movies_df)\n",
    "credits_df = eval_credits_json_col(credits_df)\n",
    "\n"
   ]
  },
  {
   "cell_type": "code",
   "execution_count": 10,
   "id": "e8c5d771",
   "metadata": {},
   "outputs": [],
   "source": [
    "#Dropping irrelevant columns\n",
    "# credits_df\n",
    "credits_df = drop_cols(credits_df, ['crew'])\n"
   ]
  },
  {
   "cell_type": "code",
   "execution_count": 11,
   "id": "b914f794",
   "metadata": {},
   "outputs": [
    {
     "name": "stdout",
     "output_type": "stream",
     "text": [
      "+------+--------------------+---------+---------------+---------+\n",
      "|    id|                cast|cast_size|       director|crew_size|\n",
      "+------+--------------------+---------+---------------+---------+\n",
      "|299534|Robert Downey Jr....|      105|  Anthony Russo|      593|\n",
      "| 19995|Sam Worthington|Z...|       65|  James Cameron|      986|\n",
      "|140607|Harrison Ford|Mar...|      182|    J.J. Abrams|      257|\n",
      "|299536|Robert Downey Jr....|       69|  Anthony Russo|      724|\n",
      "|168259|Vin Diesel|Paul W...|       48|      James Wan|      222|\n",
      "| 99861|Robert Downey Jr....|       72|    Joss Whedon|      636|\n",
      "|284054|Chadwick Boseman|...|       66|   Ryan Coogler|      557|\n",
      "| 12445|Daniel Radcliffe|...|      104|    David Yates|      154|\n",
      "|181808|Mark Hamill|Carri...|      110|   Rian Johnson|      213|\n",
      "|330457|Kristen Bell|Idin...|       64|   Jennifer Lee|       39|\n",
      "|351286|Chris Pratt|Bryce...|       39|    J.A. Bayona|      381|\n",
      "|109445|Kristen Bell|Idin...|       60|     Chris Buck|      284|\n",
      "|321612|Emma Watson|Dan S...|      137|    Bill Condon|      155|\n",
      "|260513|Craig T. Nelson|H...|       48|      Brad Bird|      259|\n",
      "|   597|Leonardo DiCaprio...|      116|  James Cameron|      258|\n",
      "|135397|Chris Pratt|Bryce...|       52|Colin Trevorrow|      423|\n",
      "|420818|Chiwetel Ejiofor|...|       20|    Jon Favreau|       45|\n",
      "| 24428|Robert Downey Jr....|      112|    Joss Whedon|      631|\n",
      "+------+--------------------+---------+---------------+---------+\n",
      "\n"
     ]
    }
   ],
   "source": [
    "credits_df.show()"
   ]
  },
  {
   "cell_type": "code",
   "execution_count": 12,
   "id": "3cb0293c",
   "metadata": {},
   "outputs": [],
   "source": [
    "# combining movies df and credits df using inner join\n",
    "combined_df = join_dfs(movies_df, credits_df, on='id', how='inner')"
   ]
  },
  {
   "cell_type": "code",
   "execution_count": 13,
   "id": "cd4ee968",
   "metadata": {},
   "outputs": [],
   "source": [
    "## Replacing invalid data with Nan\n",
    "cols_with_zero_val = ['budget', 'revenue', 'runtime']\n",
    "cols_with_placeholders = ['overview', 'tagline']\n",
    "cols_to_musd = ['revenue', 'budget']\n",
    "\n",
    "combined_df = replace_with_nan(combined_df, cols_with_zero_val)\n",
    "combined_df = replace_known_placeholders(combined_df, cols_with_placeholders)\n",
    "\n",
    "combined_df = convert_to_milions(combined_df, cols_to_musd)\n"
   ]
  },
  {
   "cell_type": "code",
   "execution_count": 14,
   "id": "11391d37",
   "metadata": {},
   "outputs": [],
   "source": [
    "\n",
    "#Drop Duplicate\n",
    "combined_df = combined_df.drop_duplicates()\n",
    "\n",
    "#drop unknown id and title\n",
    "combined_df = combined_df.dropna(subset=['id', 'title'])\n",
    "\n",
    "#kekep only roow where at least 1- columns have non_Non values\n",
    "combined_df = combined_df.dropna(thresh=10)\n",
    "\n",
    "# filter to include only released movies\n",
    "combined_df = combined_df.filter(F.col(\"status\") == \"Released\")\n",
    "# #drop status column\n",
    "combined_df = drop_cols(combined_df, ['status'])"
   ]
  },
  {
   "cell_type": "code",
   "execution_count": 15,
   "id": "6df3f4cb",
   "metadata": {},
   "outputs": [],
   "source": [
    "# Replacing Movies with vote_count = 0 with avearge count per genre\n",
    "combined_df = replace_zero_count_vote(combined_df)"
   ]
  },
  {
   "cell_type": "code",
   "execution_count": null,
   "id": "2377d009",
   "metadata": {},
   "outputs": [
    {
     "name": "stdout",
     "output_type": "stream",
     "text": [
      "+------+--------------------+--------------------+------------+--------------------+---------------------+-----------------+-----------+------------+--------------------+--------------------+----------+------------------+----------+-------+--------------------+--------------------+--------------------+--------------------+---------+---------------+---------+\n",
      "|    id|               title|             tagline|release_date|              genres|belongs_to_collection|original_language|budget_musd|revenue_musd|production_companies|production_countries|vote_count|      vote_average|popularity|runtime|            overview|    spoken_languages|         poster_path|                cast|cast_size|       director|crew_size|\n",
      "+------+--------------------+--------------------+------------+--------------------+---------------------+-----------------+-----------+------------+--------------------+--------------------+----------+------------------+----------+-------+--------------------+--------------------+--------------------+--------------------+---------+---------------+---------+\n",
      "| 99861|Avengers: Age of ...| A new age has come.|  2015-04-22|Action|Adventure|...| The Avengers Coll...|               en|   365000.0| 1405403.694|      Marvel Studios|United States of ...|   23371.0| 7.270999908447266|   21.7993|    141|When Tony Stark t...|             English|/4ssDuvEDkSArWEdy...|Robert Downey Jr....|       72|    Joss Whedon|      636|\n",
      "|   597|             Titanic|Nothing on Earth ...|  1997-11-18|       Drama|Romance|                 NULL|               en|   200000.0| 2264162.353|Paramount Picture...|United States of ...|   25916.0| 7.906000137329102|   46.9587|    194|101-year-old Rose...|English|French|Ge...|/9xjZS2rlVxm8SFx8...|Leonardo DiCaprio...|      116|  James Cameron|      258|\n",
      "|135397|      Jurassic World|   The park is open.|  2015-06-06|Action|Adventure|...| Jurassic Park Col...|               en|   150000.0| 1671537.444|Amblin Entertainm...|United States of ...|   20650.0| 6.692999839782715|    18.472|    124|Twenty-two years ...|             English|/rhr4y79GpxQF9Isf...|Chris Pratt|Bryce...|       52|Colin Trevorrow|      423|\n",
      "| 19995|              Avatar|Enter the world o...|  2009-12-15|Action|Adventure|...|    Avatar Collection|               en|   237000.0| 2923706.026|Dune Entertainmen...|United States of ...|   32162.0|7.5879998207092285|   29.1285|    162|In the 22nd centu...|     English|Spanish|/kyeqWdyUXW608qlY...|Sam Worthington|Z...|       65|  James Cameron|      986|\n",
      "|109445|              Frozen|Only the act of t...|  2013-11-20|Animation|Family|...|    Frozen Collection|               en|   150000.0| 1274219.009|Walt Disney Pictu...|United States of ...|   16813.0| 7.247000217437744|   20.8018|    102|Young princess An...|             English|/m4uhSpErBKprhscl...|Kristen Bell|Idin...|       60|     Chris Buck|      284|\n",
      "|284054|       Black Panther| Long live the king.|  2018-02-13|Action|Adventure|...| Black Panther Col...|               en|   200000.0| 1349926.083|      Marvel Studios|United States of ...|   22511.0| 7.373000144958496|   62.4477|    135|King T'Challa ret...|English|Korean|Sw...|/uxzzxijgPIY7slzF...|Chadwick Boseman|...|       66|   Ryan Coogler|      557|\n",
      "|420818|       The Lion King|The king has retu...|  2019-07-12|Adventure|Drama|F...| The Lion King (Re...|               en|   260000.0| 1662020.819|Walt Disney Pictu...|United States of ...|   10320.0| 7.110000133514404|   62.0032|    118|Simba idolizes hi...|             English|/dzBtMocZuJbjLOXv...|Chiwetel Ejiofor|...|       20|    Jon Favreau|       45|\n",
      "|140607|Star Wars: The Fo...|Every generation ...|  2015-12-15|Adventure|Action|...| Star Wars Collection|               en|   245000.0| 2068223.624|Lucasfilm Ltd.|Ba...|United States of ...|   19693.0|  7.26200008392334|   15.2615|    136|Thirty years afte...|             English|/wqnLdwVXoBjKibFR...|Harrison Ford|Mar...|      182|    J.J. Abrams|      257|\n",
      "|260513|       Incredibles 2|It's been too lon...|  2018-06-14|Action|Adventure|...| The Incredibles C...|               en|   200000.0| 1242805.359|Walt Disney Pictu...|United States of ...|   13036.0| 7.453999996185303|    9.9388|    118|Elastigirl spring...|             English|/9lFKBtaVIhP7E2Pk...|Craig T. Nelson|H...|       48|      Brad Bird|      259|\n",
      "|299536|Avengers: Infinit...|Destiny arrives a...|  2018-04-25|Adventure|Action|...| The Avengers Coll...|               en|   300000.0| 2052415.039|      Marvel Studios|United States of ...|   30433.0| 8.199999809265137|   97.1289|    149|As the Avengers a...|       English|Xhosa|/7WsyChQLEftFiDOV...|Robert Downey Jr....|       69|  Anthony Russo|      724|\n",
      "| 12445|Harry Potter and ...|        It all ends.|  2011-07-12|   Fantasy|Adventure| Harry Potter Coll...|               en|   125000.0| 1341511.219|Warner Bros. Pict...|United Kingdom|Un...|   20973.0| 8.086999893188477|    21.274|    130|Harry, Ron and He...|             English|/c54HpQmuwXjHq2C9...|Daniel Radcliffe|...|      104|    David Yates|      154|\n",
      "|181808|Star Wars: The La...|Darkness rises......|  2017-12-13|Adventure|Action|...| Star Wars Collection|               en|   200000.0|  1332698.83|      Lucasfilm Ltd.|United States of ...|   15553.0|6.7789998054504395|   56.9353|    152|Rey develops her ...|             English|/kOVEVeg59E0wsnXm...|Mark Hamill|Carri...|      110|   Rian Johnson|      213|\n",
      "|168259|           Furious 7|Vengeance hits home.|  2015-04-01|Action|Thriller|C...| The Fast and the ...|               en|   190000.0|   1515400.0|Original Film|One...|United States of ...|   10776.0|  7.22599983215332|   15.4975|    137|Deckard Shaw seek...|Arabic|English|Sp...|/wurKlC3VKUgcfsn0...|Vin Diesel|Paul W...|       48|      James Wan|      222|\n",
      "|330457|           Frozen II|The past is not w...|  2019-11-20|Family|Animation|...|    Frozen Collection|               en|   150000.0| 1453683.476|Walt Disney Pictu...|United States of ...|    9881.0|              7.25|    14.216|    103|Elsa, Anna, Krist...|             English|/mINJaa34MtknCYl5...|Kristen Bell|Idin...|       64|   Jennifer Lee|       39|\n",
      "| 24428|        The Avengers|Some assembly req...|  2012-04-25|Science Fiction|A...| The Avengers Coll...|               en|   220000.0| 1518815.515|      Marvel Studios|United States of ...|   31621.0| 7.739999771118164|   41.1871|    143|When an unexpecte...|English|Hindi|Rus...|/RYMX2wcKCBAr24Uy...|Robert Downey Jr....|      112|    Joss Whedon|      631|\n",
      "|321612|Beauty and the Beast|       Be our guest.|  2017-03-16|Family|Fantasy|Ro...|                 NULL|               en|   160000.0| 1266115.964|Walt Disney Pictu...|United States of ...|   15594.0|6.9710001945495605|   63.0014|    129|A live-action ada...|      English|French|/hKegSKIDep2ewJWP...|Emma Watson|Dan S...|      137|    Bill Condon|      155|\n",
      "|351286|Jurassic World: F...|   The park is gone.|  2018-06-06|Action|Adventure|...| Jurassic Park Col...|               en|   170000.0| 1310466.296|Amblin Entertainm...|United States of ...|   12021.0|6.5370001792907715|   56.3223|    129|Three years after...|     English|Russian|/270MrJNqJovumHXG...|Chris Pratt|Bryce...|       39|    J.A. Bayona|      381|\n",
      "|299534|   Avengers: Endgame|  Avenge the fallen.|  2019-04-24|Adventure|Science...| The Avengers Coll...|               en|   356000.0|   2799439.1|      Marvel Studios|United States of ...|   26248.0| 8.237000465393066|   53.8808|    181|After the devasta...|English|Japanese|...|/ulzhLuWrPK07P1Yk...|Robert Downey Jr....|      105|  Anthony Russo|      593|\n",
      "+------+--------------------+--------------------+------------+--------------------+---------------------+-----------------+-----------+------------+--------------------+--------------------+----------+------------------+----------+-------+--------------------+--------------------+--------------------+--------------------+---------+---------------+---------+\n",
      "\n"
     ]
    }
   ],
   "source": [
    "#reorder columns\n",
    "reordered_df = reorder_col_and_reindex(combined_df)\n",
    "reordered_df.show()"
   ]
  }
 ],
 "metadata": {
  "kernelspec": {
   "display_name": "Python 3 (ipykernel)",
   "language": "python",
   "name": "python3"
  },
  "language_info": {
   "codemirror_mode": {
    "name": "ipython",
    "version": 3
   },
   "file_extension": ".py",
   "mimetype": "text/x-python",
   "name": "python",
   "nbconvert_exporter": "python",
   "pygments_lexer": "ipython3",
   "version": "3.11.6"
  }
 },
 "nbformat": 4,
 "nbformat_minor": 5
}
