{
 "cells": [
  {
   "cell_type": "markdown",
   "id": "57cf61fc",
   "metadata": {},
   "source": [
    "# TMDB Movie Data Analysis Using Pyspark"
   ]
  },
  {
   "cell_type": "code",
   "execution_count": null,
   "id": "b8645053-8e64-4a20-b7d8-abc96db46279",
   "metadata": {},
   "outputs": [],
   "source": [
    "from utils import *\n",
    "from pyspark.sql.types import StructField, StructType, StringType, IntegerType, DoubleType\n",
    "import os"
   ]
  },
  {
   "cell_type": "code",
   "execution_count": null,
   "id": "a18c90ac-bbed-4557-8951-5aaa5ff39d61",
   "metadata": {},
   "outputs": [],
   "source": [
    "#declare constant variables\n",
    "BASE_URL = \"https://api.themoviedb.org/3/movie/\"\n",
    "API_ACCESS_TOKEN = os.getenv('API_ACCESS_TOKEN')\n",
    "HEADERS = {\n",
    "    \"accept\": \"application/json\",\n",
    "    \"Authorization\": f\"Bearer {API_ACCESS_TOKEN}\"\n",
    "}\n",
    "movie_ids = [0, 299534, 19995, 140607, 299536, 597, 135397, 420818, 24428, 168259, 99861, 284054, 12445,181808, 330457, 351286, 109445, 321612, 260513]"
   ]
  },
  {
   "cell_type": "code",
   "execution_count": null,
   "id": "acf687d0",
   "metadata": {},
   "outputs": [],
   "source": [
    "spark = create_spark_session(\"imdb_movie_data_analysis\")"
   ]
  },
  {
   "cell_type": "code",
   "execution_count": null,
   "id": "34c4362f-cc2d-491d-a404-ea620f1a9b87",
   "metadata": {},
   "outputs": [],
   "source": [
    "internet_connection = True\n",
    "movies_df = spark.createDataFrame([], StructType([]))\n",
    "credits_df = spark.createDataFrame([], StructType([]))"
   ]
  },
  {
   "cell_type": "markdown",
   "id": "1fab509c",
   "metadata": {},
   "source": [
    "### Fetching movie data from TMDB Movie Databse API"
   ]
  },
  {
   "cell_type": "code",
   "execution_count": null,
   "id": "26f38249",
   "metadata": {},
   "outputs": [],
   "source": [
    "if (internet_connection != False):\n",
    "    movies_df, credits_df = get_all_data(spark, BASE_URL, movie_ids, HEADERS)\n",
    "    movies_df.write.mode(\"overwrite\").json('./data/movies_raw_data.json')\n",
    "    credits_df.write.mode(\"overwrite\").json('./data/credits_raw_data.json')\n",
    "else:\n",
    "    movies_df = spark.read.json('./data/movies_raw_data.json')  \n",
    "    credits_df = spark.read.json('./data/credits_raw_data.json')"
   ]
  },
  {
   "cell_type": "code",
   "execution_count": null,
   "id": "c2a78d34",
   "metadata": {},
   "outputs": [],
   "source": [
    "movies_df.show()"
   ]
  }
 ],
 "metadata": {
  "kernelspec": {
   "display_name": "Python 3 (ipykernel)",
   "language": "python",
   "name": "python3"
  },
  "language_info": {
   "codemirror_mode": {
    "name": "ipython",
    "version": 3
   },
   "file_extension": ".py",
   "mimetype": "text/x-python",
   "name": "python",
   "nbconvert_exporter": "python",
   "pygments_lexer": "ipython3",
   "version": "3.11.6"
  }
 },
 "nbformat": 4,
 "nbformat_minor": 5
}
