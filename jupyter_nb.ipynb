{
 "cells": [
  {
   "cell_type": "code",
   "execution_count": 1,
   "id": "349c8c98",
   "metadata": {
    "vscode": {
     "languageId": "powershell"
    }
   },
   "outputs": [],
   "source": [
    "# pip install mysql-connector-python"
   ]
  },
  {
   "cell_type": "code",
   "execution_count": 2,
   "id": "95d59231",
   "metadata": {},
   "outputs": [],
   "source": [
    "import pandas\n",
    "from utils import *\n",
    "import mysql.connector"
   ]
  },
  {
   "cell_type": "code",
   "execution_count": 3,
   "id": "447e72e0",
   "metadata": {},
   "outputs": [],
   "source": [
    "kaggle_url = \"mahatiratusher/flight-price-dataset-of-bangladesh\"\n",
    "output_dir = \"./input\""
   ]
  },
  {
   "cell_type": "code",
   "execution_count": null,
   "id": "7a6f7b90",
   "metadata": {},
   "outputs": [
    {
     "name": "stderr",
     "output_type": "stream",
     "text": [
      "2025-05-15 04:21:27 INFO [utils] Starting dataset download function.\n",
      "2025-05-15 04:21:27 INFO [utils] Dataset already exists in './input'. Skipping download.\n"
     ]
    },
    {
     "name": "stdout",
     "output_type": "stream",
     "text": [
      "./input\n"
     ]
    }
   ],
   "source": [
    "path = download_dataset(kaggle_url, output_dir)\n",
    "print(f\"The dir for the datasest-:{path}\")"
   ]
  }
 ],
 "metadata": {
  "kernelspec": {
   "display_name": "base",
   "language": "python",
   "name": "python3"
  },
  "language_info": {
   "codemirror_mode": {
    "name": "ipython",
    "version": 3
   },
   "file_extension": ".py",
   "mimetype": "text/x-python",
   "name": "python",
   "nbconvert_exporter": "python",
   "pygments_lexer": "ipython3",
   "version": "3.11.5"
  }
 },
 "nbformat": 4,
 "nbformat_minor": 5
}
